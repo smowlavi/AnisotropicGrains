{
 "cells": [
  {
   "cell_type": "code",
   "execution_count": 10,
   "metadata": {},
   "outputs": [
    {
     "name": "stdout",
     "output_type": "stream",
     "text": [
      "The autoreload extension is already loaded. To reload it, use:\n",
      "  %reload_ext autoreload\n"
     ]
    }
   ],
   "source": [
    "%load_ext autoreload"
   ]
  },
  {
   "cell_type": "code",
   "execution_count": 16,
   "metadata": {},
   "outputs": [
    {
     "name": "stderr",
     "output_type": "stream",
     "text": [
      "\r",
      "  0%|          | 0/20 [00:00<?, ?it/s]"
     ]
    },
    {
     "name": "stdout",
     "output_type": "stream",
     "text": [
      "Computing a look-up table for ZrO2\n",
      "Progress: 4%\r"
     ]
    },
    {
     "name": "stderr",
     "output_type": "stream",
     "text": [
      "\r",
      "  5%|▌         | 1/20 [00:02<00:47,  2.50s/it]"
     ]
    },
    {
     "name": "stdout",
     "output_type": "stream",
     "text": [
      "Progress: 9%\r"
     ]
    },
    {
     "name": "stderr",
     "output_type": "stream",
     "text": [
      "\r",
      " 10%|█         | 2/20 [00:04<00:44,  2.46s/it]"
     ]
    },
    {
     "name": "stdout",
     "output_type": "stream",
     "text": [
      "Progress: 14%\r"
     ]
    },
    {
     "name": "stderr",
     "output_type": "stream",
     "text": [
      "\r",
      " 15%|█▌        | 3/20 [00:07<00:41,  2.43s/it]"
     ]
    },
    {
     "name": "stdout",
     "output_type": "stream",
     "text": [
      "Progress: 19%\r"
     ]
    },
    {
     "name": "stderr",
     "output_type": "stream",
     "text": [
      "\r",
      " 20%|██        | 4/20 [00:09<00:38,  2.41s/it]"
     ]
    },
    {
     "name": "stdout",
     "output_type": "stream",
     "text": [
      "Progress: 24%\r"
     ]
    },
    {
     "name": "stderr",
     "output_type": "stream",
     "text": [
      "\r",
      " 25%|██▌       | 5/20 [00:11<00:36,  2.41s/it]"
     ]
    },
    {
     "name": "stdout",
     "output_type": "stream",
     "text": [
      "Progress: 29%\r"
     ]
    },
    {
     "name": "stderr",
     "output_type": "stream",
     "text": [
      "\r",
      " 30%|███       | 6/20 [00:14<00:33,  2.40s/it]"
     ]
    },
    {
     "name": "stdout",
     "output_type": "stream",
     "text": [
      "Progress: 34%\r"
     ]
    },
    {
     "name": "stderr",
     "output_type": "stream",
     "text": [
      "\r",
      " 35%|███▌      | 7/20 [00:16<00:31,  2.39s/it]"
     ]
    },
    {
     "name": "stdout",
     "output_type": "stream",
     "text": [
      "Progress: 39%\r"
     ]
    },
    {
     "name": "stderr",
     "output_type": "stream",
     "text": [
      "\r",
      " 40%|████      | 8/20 [00:19<00:28,  2.38s/it]"
     ]
    },
    {
     "name": "stdout",
     "output_type": "stream",
     "text": [
      "Progress: 44%\r"
     ]
    },
    {
     "name": "stderr",
     "output_type": "stream",
     "text": [
      "\r",
      " 45%|████▌     | 9/20 [00:21<00:26,  2.37s/it]"
     ]
    },
    {
     "name": "stdout",
     "output_type": "stream",
     "text": [
      "Progress: 49%\r"
     ]
    },
    {
     "name": "stderr",
     "output_type": "stream",
     "text": [
      "\r",
      " 50%|█████     | 10/20 [00:23<00:23,  2.37s/it]"
     ]
    },
    {
     "name": "stdout",
     "output_type": "stream",
     "text": [
      "Progress: 54%\r"
     ]
    },
    {
     "name": "stderr",
     "output_type": "stream",
     "text": [
      "\r",
      " 55%|█████▌    | 11/20 [00:26<00:21,  2.37s/it]"
     ]
    },
    {
     "name": "stdout",
     "output_type": "stream",
     "text": [
      "Progress: 59%\r"
     ]
    },
    {
     "name": "stderr",
     "output_type": "stream",
     "text": [
      "\r",
      " 60%|██████    | 12/20 [00:28<00:19,  2.38s/it]"
     ]
    },
    {
     "name": "stdout",
     "output_type": "stream",
     "text": [
      "Progress: 64%\r"
     ]
    },
    {
     "name": "stderr",
     "output_type": "stream",
     "text": [
      "\r",
      " 65%|██████▌   | 13/20 [00:30<00:16,  2.38s/it]"
     ]
    },
    {
     "name": "stdout",
     "output_type": "stream",
     "text": [
      "Progress: 69%\r"
     ]
    },
    {
     "name": "stderr",
     "output_type": "stream",
     "text": [
      "\r",
      " 70%|███████   | 14/20 [00:33<00:14,  2.37s/it]"
     ]
    },
    {
     "name": "stdout",
     "output_type": "stream",
     "text": [
      "Progress: 74%\r"
     ]
    },
    {
     "name": "stderr",
     "output_type": "stream",
     "text": [
      "\r",
      " 75%|███████▌  | 15/20 [00:35<00:11,  2.37s/it]"
     ]
    },
    {
     "name": "stdout",
     "output_type": "stream",
     "text": [
      "Progress: 79%\r"
     ]
    },
    {
     "name": "stderr",
     "output_type": "stream",
     "text": [
      "\r",
      " 80%|████████  | 16/20 [00:38<00:09,  2.37s/it]"
     ]
    },
    {
     "name": "stdout",
     "output_type": "stream",
     "text": [
      "Progress: 84%\r"
     ]
    },
    {
     "name": "stderr",
     "output_type": "stream",
     "text": [
      "\r",
      " 85%|████████▌ | 17/20 [00:40<00:07,  2.38s/it]"
     ]
    },
    {
     "name": "stdout",
     "output_type": "stream",
     "text": [
      "Progress: 89%\r"
     ]
    },
    {
     "name": "stderr",
     "output_type": "stream",
     "text": [
      "\r",
      " 90%|█████████ | 18/20 [00:42<00:04,  2.38s/it]"
     ]
    },
    {
     "name": "stdout",
     "output_type": "stream",
     "text": [
      "Progress: 94%\r"
     ]
    },
    {
     "name": "stderr",
     "output_type": "stream",
     "text": [
      "\r",
      " 95%|█████████▌| 19/20 [00:45<00:02,  2.37s/it]"
     ]
    },
    {
     "name": "stdout",
     "output_type": "stream",
     "text": [
      "Progress: 99%\r"
     ]
    },
    {
     "name": "stderr",
     "output_type": "stream",
     "text": [
      "100%|██████████| 20/20 [00:47<00:00,  2.38s/it]"
     ]
    },
    {
     "name": "stdout",
     "output_type": "stream",
     "text": [
      "Look-up table saved as ./lookuptables/ZrO2.mat\n",
      "Loading look-up table from ./lookuptables/SiO2.mat\n",
      "Normal force is 0.00173649\n"
     ]
    },
    {
     "name": "stderr",
     "output_type": "stream",
     "text": [
      "\n"
     ]
    }
   ],
   "source": [
    "import numpy as np\n",
    "from scipy.interpolate import interp2d\n",
    "import scipy.io as sio\n",
    "import os\n",
    "\n",
    "%autoreload 2\n",
    "\n",
    "from functions.elasticity_tensor import ElasticityTensor\n",
    "from functions.plane_strain_modulus import PlaneStrainModulusTable\n",
    "from functions.force import Force\n",
    "\n",
    "'''\n",
    "Parameters\n",
    "'''\n",
    "\n",
    "# Materials of bodies B1 and B2\n",
    "Material_B1,Material_B2 = 'ZrO2','SiO2'\n",
    "\n",
    "# Orientations of bodies B1 and B2\n",
    "R_B1,R_B2 = np.eye(3),np.eye(3)\n",
    "\n",
    "# Gap function coefficients\n",
    "M,N = 1e6,2e6\n",
    "\n",
    "# Overlap distance\n",
    "delta = 100e-9\n",
    "\n",
    "# Coordinates of contact normal vector (a,b are Euler angles)\n",
    "a,b = 0,np.pi/2\n",
    "n = np.array([[np.cos(a)*np.sqrt(1-np.cos(b)**2)],\n",
    "              [np.sin(a)*np.sqrt(1-np.cos(b)**2)],\n",
    "              [np.cos(b)]])\n",
    "\n",
    "'''\n",
    "In the first step, typically done offline before the DEM simulation, we \n",
    "create a dictionary of interpolants of plain strain modulus values for \n",
    "every unique material present in the simulation:\n",
    "E_interp_dict = {'Material_1': E_interp_1, 'Material_2': E_interp_2, ...}\n",
    "These interpolants are formed from look-up tables of values of the plain \n",
    "strain modulus, which can be precomputed if they don't already exist.\n",
    "'''\n",
    "\n",
    "E_interp_dict = {}\n",
    "SavePath = './stored_lookup_tables/'\n",
    "\n",
    "for material in [Material_B1,Material_B2]:\n",
    "    \n",
    "    # Check if interpolant for material not already present in dictionary\n",
    "    if material not in E_interp_dict:\n",
    "        \n",
    "        # Check if look-up table of plane strain modulus values exists\n",
    "        if os.path.isfile(SavePath+material+'.mat'):\n",
    "            \n",
    "            # Load precomputed look-up table\n",
    "            print('Loading look-up table from %s' % SavePath+material+'.mat')\n",
    "            data = sio.loadmat(SavePath+material)\n",
    "            EE,aa,bb = data['EE'],data['aa'].flatten(),data['bb'].flatten()\n",
    "        \n",
    "        else:\n",
    "            \n",
    "            # Compute a look-up table of plane strain modulus values\n",
    "            print('Computing a look-up table for %s' % material)\n",
    "            C = ElasticityTensor(material)\n",
    "            EE,aa,bb = PlaneStrainModulusTable(C,N_alpha=20,N_beta=10)\n",
    "            \n",
    "            # Save the look-up table for future use\n",
    "            if not os.path.exists(SavePath): os.makedirs(SavePath)\n",
    "            sio.savemat(SavePath+material,{'EE':EE,'aa':aa,'bb':bb})\n",
    "            print('Look-up table saved as %s' % SavePath+material+'.mat')\n",
    "            \n",
    "        # Add to dictionary an interpolant of the plane strain modulus\n",
    "        E_interp_dict[material] = interp2d(aa,bb,EE)\n",
    "                        \n",
    "'''\n",
    "In the second part, done online during the DEM simulation, we calculate \n",
    "the normal force between the two contacting bodies by using the \n",
    "interpolants corresponding to the materials of these two bodies. \n",
    "'''   \n",
    "\n",
    "# Calculate contact force\n",
    "F = Force(E_interp_dict[Material_B1],E_interp_dict[Material_B2],R_B1,R_B2,M,N,delta,n)\n",
    "\n",
    "print('Normal force is %g' % F)"
   ]
  },
  {
   "cell_type": "code",
   "execution_count": null,
   "metadata": {},
   "outputs": [],
   "source": []
  },
  {
   "cell_type": "code",
   "execution_count": null,
   "metadata": {},
   "outputs": [],
   "source": []
  }
 ],
 "metadata": {
  "kernelspec": {
   "display_name": "Python 3",
   "language": "python",
   "name": "python3"
  },
  "language_info": {
   "codemirror_mode": {
    "name": "ipython",
    "version": 3
   },
   "file_extension": ".py",
   "mimetype": "text/x-python",
   "name": "python",
   "nbconvert_exporter": "python",
   "pygments_lexer": "ipython3",
   "version": "3.7.1"
  }
 },
 "nbformat": 4,
 "nbformat_minor": 2
}
